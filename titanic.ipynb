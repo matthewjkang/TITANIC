{
 "cells": [
  {
   "source": [
    "## Imports"
   ],
   "cell_type": "markdown",
   "metadata": {}
  },
  {
   "cell_type": "code",
   "execution_count": 2,
   "metadata": {},
   "outputs": [],
   "source": [
    "import numpy as np\n",
    "import pandas as pd"
   ]
  },
  {
   "source": [
    "## Load CSV"
   ],
   "cell_type": "markdown",
   "metadata": {}
  },
  {
   "cell_type": "code",
   "execution_count": 3,
   "metadata": {},
   "outputs": [],
   "source": [
    "train = pd.read_csv('csv/train.csv')\n",
    "test = pd.read_csv('csv/test.csv')\n",
    "sample_submission = pd.read_csv('csv/gender_submission.csv')"
   ]
  },
  {
   "source": [
    "## EDA - Training Data"
   ],
   "cell_type": "markdown",
   "metadata": {}
  },
  {
   "cell_type": "code",
   "execution_count": 60,
   "metadata": {},
   "outputs": [
    {
     "output_type": "stream",
     "name": "stdout",
     "text": [
      "Training data matrix shape : (891, 12)\n\nNumber of passengers in the training data: 891\nSurvivors : 342 / 891\nDeceased : 549 / 891\n\nMale onboard : 577 / 891\nMale survivors : 109 / 577\nMale deceased : 468 / 577\n\nFemale onboard: 314 / 891\nFemale survivors : 233 / 314\nFemale deceased : 81 / 314\n\nNumber of passengers in first class: 216\nProbability of surviving if passenger was in first class : 62.96%\nNumber of passengers in second class: 184\nProbability of surviving if passenger was in second class : 47.28%\nNumber of passengers in third class: 491\nProbability of surviving if passenger was in third class : 24.24%\n"
     ]
    }
   ],
   "source": [
    "print(f'Training data matrix shape : {train.shape}')\n",
    "print()\n",
    "print(f'Number of passengers in the training data: {train.shape[0]}')\n",
    "print(f'Survivors : {train.Survived.value_counts()[1]} / {train.shape[0]}')\n",
    "print(f'Deceased : {train.Survived.value_counts()[0]} / {train.shape[0]}')\n",
    "print()\n",
    "print(f'Male onboard : {train.Sex.value_counts()[0]} / {train.shape[0]}')\n",
    "print(f'Male survivors : {train.loc[train.Sex==\"male\"].Survived.value_counts()[1]} / {len(train.loc[train.Sex==\"male\"].Survived)}')\n",
    "print(f'Male deceased : {train.loc[train.Sex==\"male\"].Survived.value_counts()[0]} / {len(train.loc[train.Sex==\"male\"].Survived)}')\n",
    "print()\n",
    "print(f'Female onboard: {train.Sex.value_counts()[1]} / {train.shape[0]}')\n",
    "print(f'Female survivors : {train.loc[train.Sex==\"female\"].Survived.value_counts()[1]} / {len(train.loc[train.Sex==\"female\"].Survived)}')\n",
    "print(f'Female deceased : {train.loc[train.Sex==\"female\"].Survived.value_counts()[0]} / {len(train.loc[train.Sex==\"female\"].Survived)}')\n",
    "print()\n",
    "print(f'Number of passengers in first class: {train.Pclass.value_counts()[1]}')\n",
    "print(f'Probability of surviving if passenger was in first class : {round(train[[\"Pclass\",\"Survived\"]].value_counts()[1][1] / train.Pclass.value_counts()[1] * 100,2)}%')\n",
    "print(f'Number of passengers in second class: {train.Pclass.value_counts()[2]}')\n",
    "print(f'Probability of surviving if passenger was in second class : {round(train[[\"Pclass\",\"Survived\"]].value_counts()[2][1] / train.Pclass.value_counts()[2] * 100,2)}%')\n",
    "print(f'Number of passengers in third class: {train.Pclass.value_counts()[3]}')\n",
    "print(f'Probability of surviving if passenger was in third class : {round(train[[\"Pclass\",\"Survived\"]].value_counts()[3][1] / train.Pclass.value_counts()[3] * 100,2)}%')\n"
   ]
  }
 ],
 "metadata": {
  "kernelspec": {
   "name": "python392jvsc74a57bd0aee8b7b246df8f9039afb4144a1f6fd8d2ca17a180786b69acc140d282b71a49",
   "display_name": "Python 3.9.2 64-bit"
  },
  "language_info": {
   "codemirror_mode": {
    "name": "ipython",
    "version": 3
   },
   "file_extension": ".py",
   "mimetype": "text/x-python",
   "name": "python",
   "nbconvert_exporter": "python",
   "pygments_lexer": "ipython3",
   "version": "3.9.2"
  },
  "metadata": {
   "interpreter": {
    "hash": "aee8b7b246df8f9039afb4144a1f6fd8d2ca17a180786b69acc140d282b71a49"
   }
  }
 },
 "nbformat": 4,
 "nbformat_minor": 2
}