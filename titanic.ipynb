{
 "cells": [
  {
   "source": [
    "## Imports"
   ],
   "cell_type": "markdown",
   "metadata": {}
  },
  {
   "cell_type": "code",
   "execution_count": 1,
   "metadata": {},
   "outputs": [],
   "source": [
    "import numpy as np\n",
    "import pandas as pd"
   ]
  },
  {
   "source": [
    "## Load CSV"
   ],
   "cell_type": "markdown",
   "metadata": {}
  },
  {
   "cell_type": "code",
   "execution_count": 2,
   "metadata": {},
   "outputs": [],
   "source": [
    "train = pd.read_csv('csv/train.csv')\n",
    "test = pd.read_csv('csv/test.csv')\n",
    "sample_submission = pd.read_csv('csv/gender_submission.csv')"
   ]
  },
  {
   "source": [
    "# EDA - Training Data"
   ],
   "cell_type": "markdown",
   "metadata": {}
  },
  {
   "source": [],
   "cell_type": "markdown",
   "metadata": {}
  },
  {
   "cell_type": "code",
   "execution_count": 3,
   "metadata": {},
   "outputs": [],
   "source": [
    "num_passengers = train.shape[0]\n",
    "num_survivors = train.Survived.value_counts()[1]\n",
    "num_deceased = train.Survived.value_counts()[0]\n",
    "\n",
    "num_male = train.Sex.value_counts()[0]\n",
    "male_survivors = train.loc[train.Sex==\"male\"].Survived.value_counts()[1]\n",
    "male_deceased = train.loc[train.Sex==\"male\"].Survived.value_counts()[0]\n",
    "\n",
    "num_female = train.Sex.value_counts()[1]\n",
    "female_survivors = train.loc[train.Sex==\"female\"].Survived.value_counts()[1]\n",
    "female_deceased = train.loc[train.Sex==\"female\"].Survived.value_counts()[0]\n",
    "\n",
    "passenger1c = train.Pclass.value_counts()[1]\n",
    "passenger1c_survivors = train[[\"Pclass\",\"Survived\"]].value_counts()[1][1]\n",
    "female_1stClass = train.loc[train.Sex=='female'].Pclass.value_counts()[1]\n",
    "male_1stClass = train.loc[train.Sex=='male'].Pclass.value_counts()[1]\n",
    "\n",
    "passenger2c = train.Pclass.value_counts()[2]\n",
    "passenger2c_survivors = train[[\"Pclass\",\"Survived\"]].value_counts()[2][1]\n",
    "female_2ndClass = train.loc[train.Sex=='female'].Pclass.value_counts()[2]\n",
    "male_2ndClass = train.loc[train.Sex=='male'].Pclass.value_counts()[2]\n",
    "\n",
    "passenger3c = train.Pclass.value_counts()[3]\n",
    "passenger3c_survivors = train[[\"Pclass\",\"Survived\"]].value_counts()[3][1]\n",
    "female_3rdClass = train.loc[train.Sex=='female'].Pclass.value_counts()[3]\n",
    "male_3rdClass = train.loc[train.Sex=='male'].Pclass.value_counts()[3]\n"
   ]
  },
  {
   "cell_type": "code",
   "execution_count": 16,
   "metadata": {},
   "outputs": [
    {
     "output_type": "stream",
     "name": "stdout",
     "text": [
      "Training data matrix shape : (891, 12)\n\nNumber of passengers in the training data: 891\nSurvivors : 342 / 891\nDeceased : 549 / 891\n\nMale onboard : 577 / 891\nMale survivors : 109 / 577\nMale deceased : 468 / 577\n\nFemale onboard: 314 / 891\nFemale survivors : 233 / 314\nFemale deceased : 81 / 314\n\nNumber of passengers in first class: 216\nmale 122\nfemale 94\n\nNumber of passengers in second class: 184\nmale 108\nfemale 76\n\nNumber of passengers in third class: 491\nmale 347\nfemale 144\n\nProbability of surviving if passenger was in first class : 62.96%\nProbability of surviving if passenger was in second class : 47.28%\nProbability of surviving if passenger was in third class : 24.24%\n"
     ]
    }
   ],
   "source": [
    "\n",
    "print(f'Training data matrix shape : {train.shape}')\n",
    "print()\n",
    "print(f'Number of passengers in the training data: {num_passengers}')\n",
    "print(f'Survivors : {num_survivors} / {num_passengers}')\n",
    "print(f'Deceased : {num_deceased} / {num_passengers}')\n",
    "print()\n",
    "print(f'Male onboard : {num_male} / {num_passengers}')\n",
    "print(f'Male survivors : {male_survivors} / {num_male}')\n",
    "print(f'Male deceased : {male_deceased} / {num_male}')\n",
    "print()\n",
    "print(f'Female onboard: {num_female} / {num_passengers}')\n",
    "print(f'Female survivors : {female_survivors} / {num_female}')\n",
    "print(f'Female deceased : {female_deceased} / {num_female}')\n",
    "print()\n",
    "print(f'Number of passengers in first class: {passenger1c}')\n",
    "print(f'male {male_1stClass}')\n",
    "print(f'female {female_1stClass}')\n",
    "print()\n",
    "print(f'Number of passengers in second class: {passenger2c}')\n",
    "print(f'male {male_2ndClass}')\n",
    "print(f'female {female_2ndClass}')\n",
    "print()\n",
    "print(f'Number of passengers in third class: {passenger3c}')\n",
    "print(f'male {male_3rdClass}')\n",
    "print(f'female {female_3rdClass}')\n",
    "print()\n",
    "print(f'Probability of surviving if passenger was in first class : {round(passenger1c_survivors  / passenger1c * 100,2)}%')\n",
    "print(f'Probability of surviving if passenger was in second class : {round(passenger2c_survivors  / passenger2c * 100,2)}%')\n",
    "print(f'Probability of surviving if passenger was in third class : {round(passenger3c_survivors  / passenger3c * 100,2)}%')\n"
   ]
  },
  {
   "cell_type": "code",
   "execution_count": 14,
   "metadata": {},
   "outputs": [
    {
     "output_type": "execute_result",
     "data": {
      "text/plain": [
       "1    91\n",
       "3    72\n",
       "2    70\n",
       "Name: Pclass, dtype: int64"
      ]
     },
     "metadata": {},
     "execution_count": 14
    }
   ],
   "source": [
    "train.loc[train.Sex=='female'].loc[train.Survived==1].Pclass.value_counts()"
   ]
  },
  {
   "cell_type": "code",
   "execution_count": null,
   "metadata": {},
   "outputs": [],
   "source": []
  }
 ],
 "metadata": {
  "kernelspec": {
   "name": "python392jvsc74a57bd0aee8b7b246df8f9039afb4144a1f6fd8d2ca17a180786b69acc140d282b71a49",
   "display_name": "Python 3.9.2 64-bit"
  },
  "language_info": {
   "codemirror_mode": {
    "name": "ipython",
    "version": 3
   },
   "file_extension": ".py",
   "mimetype": "text/x-python",
   "name": "python",
   "nbconvert_exporter": "python",
   "pygments_lexer": "ipython3",
   "version": "3.9.2"
  },
  "metadata": {
   "interpreter": {
    "hash": "aee8b7b246df8f9039afb4144a1f6fd8d2ca17a180786b69acc140d282b71a49"
   }
  }
 },
 "nbformat": 4,
 "nbformat_minor": 2
}